{
 "cells": [
  {
   "cell_type": "markdown",
   "metadata": {},
   "source": [
    "# Observing Imprecisions in Floating-Point Arithmetic"
   ]
  },
  {
   "cell_type": "markdown",
   "metadata": {},
   "source": [
    "- Imprecisions are present in floating point arithmetic\n",
    "- Machines store finite representations of data, and inexact values must be rounded\n",
    "- Even \"exact\" values at different magnitudes cannot necessarily be used together without the introduction of error\n",
    "- You can demonstrate this with Python3 out-of-the-box"
   ]
  },
  {
   "cell_type": "code",
   "execution_count": 1,
   "metadata": {},
   "outputs": [],
   "source": [
    "def count_to_one(N):\n",
    "    step = 1.0 / N\n",
    "    return step, step*N, sum([step for _ in range(int(N))])"
   ]
  },
  {
   "cell_type": "markdown",
   "metadata": {},
   "source": [
    "- The function above should return the number 1: we're adding N steps of size 1/N together"
   ]
  },
  {
   "cell_type": "code",
   "execution_count": 2,
   "metadata": {},
   "outputs": [
    {
     "name": "stdout",
     "output_type": "stream",
     "text": [
      "(0.001, 1.0, 1.0000000000000007)\n"
     ]
    }
   ],
   "source": [
    "N = 1e3\n",
    "print(count_to_one(N))"
   ]
  },
  {
   "cell_type": "markdown",
   "metadata": {},
   "source": [
    "- That didn't give us the number 1...\n",
    "- It's _close_, but not exact. Is it random/probabilistic?\n",
    "- Let's run it 5 more times"
   ]
  },
  {
   "cell_type": "code",
   "execution_count": 3,
   "metadata": {},
   "outputs": [
    {
     "name": "stdout",
     "output_type": "stream",
     "text": [
      "(0.001, 1.0, 1.0000000000000007)\n",
      "(0.001, 1.0, 1.0000000000000007)\n",
      "(0.001, 1.0, 1.0000000000000007)\n",
      "(0.001, 1.0, 1.0000000000000007)\n",
      "(0.001, 1.0, 1.0000000000000007)\n"
     ]
    }
   ],
   "source": [
    "N = 1e3\n",
    "for _ in range(5):\n",
    "    print(count_to_one(N))"
   ]
  },
  {
   "cell_type": "markdown",
   "metadata": {},
   "source": [
    "- So we're getting the _same_ *wrong* answer each time\n",
    "- Does the value we pick for N make a difference?"
   ]
  },
  {
   "cell_type": "code",
   "execution_count": 4,
   "metadata": {},
   "outputs": [
    {
     "name": "stdout",
     "output_type": "stream",
     "text": [
      "N = 1e+03\n",
      "  (0.001, 1.0, 1.0000000000000007)\n",
      "  (0.001, 1.0, 1.0000000000000007)\n",
      "  (0.001, 1.0, 1.0000000000000007)\n",
      "  (0.001, 1.0, 1.0000000000000007)\n",
      "  (0.001, 1.0, 1.0000000000000007)\n",
      "N = 1e+06\n",
      "  (1e-06, 1.0, 1.000000000007918)\n",
      "  (1e-06, 1.0, 1.000000000007918)\n",
      "  (1e-06, 1.0, 1.000000000007918)\n",
      "  (1e-06, 1.0, 1.000000000007918)\n",
      "  (1e-06, 1.0, 1.000000000007918)\n"
     ]
    }
   ],
   "source": [
    "for N in [1e3, 1e6]:\n",
    "    print(\"N = {0:.0e}\".format(N))\n",
    "    for _ in range(5):\n",
    "        print(\"  {0}\".format(count_to_one(N)))"
   ]
  },
  {
   "cell_type": "markdown",
   "metadata": {},
   "source": [
    "- we see both under- and over-estimations that are consistent for each value of N we tried\n",
    "- it so happens, decimal multiples of 10 cannot be stored in finite bits (like many, many other decimal numbers)\n",
    "- the initial division in our function introduced a bit of error\n",
    "- the subsequent addition of this incorrect value compounded the difference\n",
    "- does this problem also exist for other datatypes/numpy?"
   ]
  },
  {
   "cell_type": "code",
   "execution_count": 5,
   "metadata": {},
   "outputs": [],
   "source": [
    "import numpy as np\n",
    "\n",
    "def count_to_one(N, dtype=float):\n",
    "    N = dtype(N)\n",
    "    step = dtype(1.0) / N\n",
    "    return step, step*N, np.sum([step for _ in range(int(N))])"
   ]
  },
  {
   "cell_type": "code",
   "execution_count": 6,
   "metadata": {},
   "outputs": [
    {
     "name": "stdout",
     "output_type": "stream",
     "text": [
      "N = 1e+01 (10.0)\n",
      "  1.0 (int => float64)\n",
      "  1.0 (int32 => float64)\n",
      "  1.0 (int64 => float64)\n",
      "  1.0 (float => float64)\n",
      "  1.0 (float32 => float32)\n",
      "  1.0 (float64 => float64)\n",
      "N = 1e+02 (100.0)\n",
      "  0.9999999999999999 (int => float64)\n",
      "  0.9999999999999999 (int32 => float64)\n",
      "  0.9999999999999999 (int64 => float64)\n",
      "  0.9999999999999999 (float => float64)\n",
      "  0.9999998211860657 (float32 => float32)\n",
      "  0.9999999999999999 (float64 => float64)\n",
      "N = 1e+03 (1000.0)\n",
      "  1.0000000000000004 (int => float64)\n",
      "  1.0000000000000004 (int32 => float64)\n",
      "  1.0000000000000004 (int64 => float64)\n",
      "  1.0000000000000004 (float => float64)\n",
      "  1.0000001192092896 (float32 => float32)\n",
      "  1.0000000000000004 (float64 => float64)\n",
      "N = 1e+06 (1000000.0)\n",
      "  0.9999999999999981 (int => float64)\n",
      "  0.9999999999999981 (int32 => float64)\n",
      "  0.9999999999999981 (int64 => float64)\n",
      "  0.9999999999999981 (float => float64)\n",
      "  1.000000238418579 (float32 => float32)\n",
      "  0.9999999999999981 (float64 => float64)\n"
     ]
    }
   ],
   "source": [
    "for N in [1e1, 1e2, 1e3, 1e6]:\n",
    "    print(\"N = {0:.0e} ({0})\".format(N))\n",
    "    for dt in [int, np.int32, np.int64, float, np.float32, np.float64]:\n",
    "        estimate_of_one = count_to_one(N, dt)\n",
    "        print(\"  {0} ({1} => {2})\".format(estimate_of_one[2],\n",
    "                                          dt.__name__,\n",
    "                                          type(estimate_of_one[2]).__name__))"
   ]
  },
  {
   "cell_type": "code",
   "execution_count": null,
   "metadata": {},
   "outputs": [],
   "source": []
  }
 ],
 "metadata": {
  "kernelspec": {
   "display_name": "Python 3",
   "language": "python",
   "name": "python3"
  },
  "language_info": {
   "codemirror_mode": {
    "name": "ipython",
    "version": 3
   },
   "file_extension": ".py",
   "mimetype": "text/x-python",
   "name": "python",
   "nbconvert_exporter": "python",
   "pygments_lexer": "ipython3",
   "version": "3.7.4"
  }
 },
 "nbformat": 4,
 "nbformat_minor": 2
}
